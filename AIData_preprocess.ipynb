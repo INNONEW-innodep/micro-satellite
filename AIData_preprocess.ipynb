{
 "cells": [
  {
   "cell_type": "markdown",
   "id": "71f2bcfd",
   "metadata": {},
   "source": [
    "# module"
   ]
  },
  {
   "cell_type": "code",
   "execution_count": null,
   "id": "57184326",
   "metadata": {},
   "outputs": [
    {
     "name": "stderr",
     "output_type": "stream",
     "text": [
      "2023-12-12 04:48:07.897099: I tensorflow/core/util/port.cc:110] oneDNN custom operations are on. You may see slightly different numerical results due to floating-point round-off errors from different computation orders. To turn them off, set the environment variable `TF_ENABLE_ONEDNN_OPTS=0`.\n",
      "2023-12-12 04:48:08.057194: I tensorflow/core/platform/cpu_feature_guard.cc:182] This TensorFlow binary is optimized to use available CPU instructions in performance-critical operations.\n",
      "To enable the following instructions: AVX2 AVX512F AVX512_VNNI FMA, in other operations, rebuild TensorFlow with the appropriate compiler flags.\n",
      "/usr/lib/python3/dist-packages/requests/__init__.py:89: RequestsDependencyWarning: urllib3 (2.0.7) or chardet (3.0.4) doesn't match a supported version!\n",
      "  warnings.warn(\"urllib3 ({}) or chardet ({}) doesn't match a supported \"\n"
     ]
    }
   ],
   "source": [
    "import sys, os\n",
    "sys.path.append(os.pardir)\n",
    "sys.path.append('../')\n",
    "sys.path.append('./')\n",
    "import numpy as np\n",
    "import matplotlib.pyplot as plt\n",
    "\n",
    "import cv2\n",
    "import skimage.transform as sktrans\n",
    "import skimage.filters as skfilt\n",
    "import tensorflow.keras.layers\n",
    "from tensorflow.keras.layers import Dense, Input, Activation, Flatten, Lambda\n",
    "from tensorflow.keras.layers import BatchNormalization,Add,Dropout\n",
    "from tensorflow.keras.optimizers import Adam\n",
    "from tensorflow.keras.models import Model, load_model\n",
    "from tensorflow.keras.layers import LeakyReLU, ReLU, Conv2D, MaxPooling2D, BatchNormalization, Conv2DTranspose, UpSampling2D, concatenate,Activation\n",
    "from tensorflow.keras import callbacks\n",
    "from tensorflow.keras import backend as K\n",
    "from tensorflow.keras.regularizers import l2\n",
    "from S1_data import *            # 이 안에 있는 라이브러리들은 조금 수정이 필요합니다\n",
    "import time\n",
    "T1 = time.time()\n",
    "my_path = os.getcwd()"
   ]
  },
  {
   "cell_type": "code",
   "execution_count": null,
   "id": "833ff436-038f-492a-abb7-5d7f500f14d9",
   "metadata": {},
   "outputs": [],
   "source": [
    "#from osgeo import gdal\n",
    "import sys, os\n",
    "sys.path.append(os.pardir)\n",
    "sys.path.append('../../')\n",
    "\n",
    "\n",
    "import pandas as pd\n",
    "from sklearn.impute import KNNImputer\n",
    "from skimage import io, util\n",
    "import shutil\n",
    "import pandas as pd\n",
    "from tqdm import tqdm\n",
    "import random"
   ]
  },
  {
   "cell_type": "code",
   "execution_count": null,
   "id": "38fb5ce1",
   "metadata": {},
   "outputs": [],
   "source": [
    "def read_binary(filename,naz,nrg,nband=1,data_type='f'):\n",
    "    \"\"\" read binary data\n",
    "    \"\"\"\n",
    "    fd = open(filename,'rb')\n",
    "    bin_data=np.fromfile(fd,dtype =np.dtype(data_type),count=naz*nrg*nband)\n",
    "    if nband == 1:\n",
    "        return bin_data.reshape(naz,nrg)\n",
    "    else: \n",
    "        return bin_data.reshape(nband,naz,nrg)\n",
    "\n",
    "def write_binary(filename, bin_data):\n",
    "    \"\"\" write binary data\n",
    "    \"\"\"    \n",
    "    fd = open(filename,'wb')\n",
    "    bin_data.tofile(fd)\n",
    "    fd.close()"
   ]
  },
  {
   "cell_type": "code",
   "execution_count": 9,
   "id": "a2ebf29f",
   "metadata": {},
   "outputs": [],
   "source": [
    "\n",
    "Seoul1_N_HH= 10240 # column\n",
    "Seoul1_M= 22000 # row\n",
    "\n",
    "Seoul2_N_HH= 10240 # column\n",
    "Seoul2_M_HH= 22000 # row\n",
    "\n",
    "\n",
    "B=1# band number\n",
    "Bimage=2"
   ]
  },
  {
   "cell_type": "markdown",
   "id": "8b57d316",
   "metadata": {},
   "source": [
    "## Seoul Flood"
   ]
  },
  {
   "cell_type": "code",
   "execution_count": null,
   "id": "a646470d",
   "metadata": {},
   "outputs": [],
   "source": [
    "from PIL import Image\n",
    "Seoul1_files =  [file for file in os.listdir('./labels/Seoul/HH/') if file.endswith('.tif')]\n",
    "Seoul2_files =  [file for file in os.listdir('./labels/Seoul2/HH/') if file.endswith('.tif')]\n",
    "\n",
    "Seoul_dataFrame_orig_HH = np.zeros((int(len(Seoul_HH_files)),B,Seoul_N_HH,Seoul_M_HH),'float32')\n",
    "Seoul_labelFrame_orig1 = np.zeros((int(len(Seoul_HH_files)),Seoul_N_HH,Seoul_M_HH),'float32')\n",
    "\n",
    "Seoul2_dataFrame_orig_HH = np.zeros((int(len(Seoul_HH_files)),B,Seoul2_N_HH,Seoul2_M_HH),'float32')\n",
    "Seoul2_labelFrame_orig2 = np.zeros((int(len(Seoul_HH_files)),Seoul2_N_HH,Seoul2_M_HH),'float32')\n",
    "\n",
    "\n",
    "\n",
    "i1=0\n",
    "i2=0\n",
    "\n",
    "\n",
    "HH_list=[]\n",
    "HH2_list=[]\n",
    "\n",
    "for i, name in enumerate(Seoul1_files):\n",
    "\n",
    "    Seoul_dataFrame_orig_HH[i1,:,:,:]=read_binary('./images/Seoul/HH/' + 'Seoul_'+ str(name[8:16])+'_HH',Seoul_N_HH,Seoul_M_HH,B,data_type='float32')\n",
    "    Seoul_labelFrame_orig1[i1,:,:]=io.imread('./labels/Seoul/HH/' + 'Seoul_'+ str(name[8:16])+'_HH.tif')\n",
    "    HH_list.append('Seoul_' + name[8:16] + '_HH')\n",
    "    i1=i1+1\n",
    "\n",
    "\n",
    "   \n",
    "for i, name in enumerate(Seoul2_files):\n",
    "\n",
    "    Seoul2_dataFrame_orig_HH[i1,:,:,:]=read_binary('./images/Seoul2/HH/' + 'Seoul_'+ str(name[8:16])+'_HH',Seoul2_N_HH,Seoul2_M_HH,B,data_type='float32')\n",
    "    Seoul2_labelFrame_orig2[i1,:,:]=io.imread('./labels/Seoul2/HH/' + 'Seoul_'+ str(name[8:16])+'_HH.tif')\n",
    "    HH2_list.append('Seoul2_' + name[8:16] + '_HH')\n",
    "    i1=i1+1\n",
    "     \n",
    "Seoul_dataFrame_orig_HH= Seoul_dataFrame_orig_HH.transpose(0,2,3,1) \n",
    "Seoul2_dataFrame_orig_HH= Seoul2_dataFrame_orig_HH.transpose(0,2,3,1) \n",
    "\n",
    "\n",
    "\n"
   ]
  },
  {
   "cell_type": "code",
   "execution_count": null,
   "id": "2a789023",
   "metadata": {},
   "outputs": [],
   "source": [
    "Seoul_max0_iw1,Seoul_min0_iw1 = image_norm_pre(Seoul_dataFrame_orig_HH)\n",
    "Seoul_max0_iw2,Seoul_min0_iw2 = image_norm_pre(Seoul2_dataFrame_orig_HH)\n",
    "\n",
    "print(Seoul_max0_iw1,Seoul_min0_iw1)\n",
    "print(Seoul_max0_iw2,Seoul_min0_iw2)\n",
    "\n",
    "## test scene no normalization\n",
    "\n",
    "for i in range(Seoul_dataFrame_orig_HH.shape[0]):\n",
    "    Seoul_dataFrame_orig_HH[i] = image_norm_ALL(Seoul_dataFrame_orig_HH[i],Seoul_max0_iw1,Seoul_min0_iw1)\n",
    "\n",
    "for i in range(Seoul2_dataFrame_orig_HH.shape[0]):\n",
    "    Seoul2_dataFrame_orig_HH[i] = image_norm_ALL(Seoul2_dataFrame_orig_HH[i],Seoul_max0_iw2,Seoul_min0_iw2)\n",
    "\n",
    "\n",
    "    "
   ]
  },
  {
   "cell_type": "code",
   "execution_count": 36,
   "id": "d1fd2863",
   "metadata": {},
   "outputs": [],
   "source": [
    "# Random Shuffle\n",
    "Seoul_dataFrame_orig_HH,Seoul_labelFrame_orig1,HH_list = random_sf(Seoul_dataFrame_orig_HH,Seoul_labelFrame_orig1,HH_list)\n",
    "Seoul2_dataFrame_orig_HH,Seoul2_labelFrame_orig2,HH2_list = random_sf(Seoul2_dataFrame_orig_HH,Seoul2_labelFrame_orig2,HH2_list)\n"
   ]
  },
  {
   "cell_type": "code",
   "execution_count": null,
   "id": "5764ef1f",
   "metadata": {},
   "outputs": [],
   "source": [
    "# Train Test Split\n",
    "Seoul_train,Seoul_label_train,Seoul_test,Seoul_label_test,Seoul_list_train,Seoul_list_test=train_test_split(Seoul_dataFrame_orig_HH,Seoul_labelFrame_orig1,HH_list)\n",
    "Seoul2_train,Seoul2_label_train,Seoul2_test,Seoul2_label_test,Seoul2_list_train,Seoul2_list_test=train_test_split(Seoul2_dataFrame_orig_HH,Seoul2_labelFrame_orig2,HH2_list)\n"
   ]
  },
  {
   "cell_type": "markdown",
   "id": "1510a265",
   "metadata": {},
   "source": [
    "### crop image"
   ]
  },
  {
   "cell_type": "code",
   "execution_count": 12,
   "id": "b0cef241",
   "metadata": {},
   "outputs": [],
   "source": [
    "## train patch\n",
    "\n",
    "Seoul_train_patch,Seoul_label_train_patch,Seoul_train_idx = crop_image_shift(Seoul_train,Seoul_label_train,patch_size=(512,512),max_shift=32)\n",
    "Seoul2_train_patch,Seoul2_label_train_patch,Seoul2_train_idx = crop_image_shift(Seoul2_train,Seoul2_label_train,patch_size=(512,512),max_shift=32)"
   ]
  },
  {
   "cell_type": "code",
   "execution_count": null,
   "id": "12595976",
   "metadata": {},
   "outputs": [],
   "source": [
    "#Patch Selected\n",
    "Seoul_train_patch_sel,Seoul_label_train_patch_sel = select_patch(Seoul_train_patch,Seoul_label_train_patch)\n",
    "Seoul2_train_patch_sel,Seoul2_label_train_patch_sel = select_patch(Seoul2_train_patch,Seoul2_label_train_patch)\n"
   ]
  },
  {
   "cell_type": "code",
   "execution_count": null,
   "id": "734ddafb",
   "metadata": {},
   "outputs": [],
   "source": [
    "Seoul_train_patch_final = np.vstack([Seoul_train_patch_sel,Seoul2_train_patch_sel])\n",
    "Seoul_train_label_patch_final = np.vstack([Seoul_label_train_patch_sel,Seoul2_label_train_patch_sel])\n",
    "\n"
   ]
  },
  {
   "cell_type": "code",
   "execution_count": 18,
   "id": "3cafc1cf",
   "metadata": {},
   "outputs": [
    {
     "name": "stdout",
     "output_type": "stream",
     "text": [
      "Number of train Data: 3000\n"
     ]
    }
   ],
   "source": [
    "tmp1=np.arange(Seoul_train_patch_final.shape[0])\n",
    "np.random.seed(200)\n",
    "np.random.shuffle(tmp1)\n",
    "Seoul_train_label_patch_final=Seoul_train_label_patch_final[tmp1,:,:]\n",
    "Seoul_train_patch_final=Seoul_train_patch_final[tmp1,:,:,:]\n",
    "print(f\"Number of train Data: {Seoul_train_patch_final.shape[0]}\")\n",
    "\n",
    "import pickle\n",
    "with open('./pickle/Seoul_train_patch_512_100.pkl', 'wb') as f:\n",
    "\tpickle.dump(Seoul_train_patch_final, f, protocol=pickle.HIGHEST_PROTOCOL)\n",
    "with open('./pickle/Seoul_train_label_patch_512_100.pkl', 'wb') as f:\n",
    "\tpickle.dump(Seoul_train_label_patch_final, f, protocol=pickle.HIGHEST_PROTOCOL)"
   ]
  },
  {
   "cell_type": "markdown",
   "id": "ab1afc1d",
   "metadata": {},
   "source": [
    "### crop test"
   ]
  },
  {
   "cell_type": "code",
   "execution_count": 20,
   "id": "45db7a8c",
   "metadata": {},
   "outputs": [],
   "source": [
    "## test patch\n",
    "\n",
    "Seoul_test_patch,Seoul_label_test_patch,Seoul_test_idx = crop_image_shift(Seoul_test,Seoul_label_test,patch_size=(512,512),max_shift=32)\n",
    "Seoul2_test_patch,Seoul2_label_test_patch,Seoul2_test_idx = crop_image_shift(Seoul2_test,Seoul2_label_test,patch_size=(512,512),max_shift=32)"
   ]
  },
  {
   "cell_type": "code",
   "execution_count": null,
   "id": "8f16e187",
   "metadata": {},
   "outputs": [],
   "source": [
    "#Patch Selected\n",
    "Seoul_test_patch_sel,Seoul_label_test_patch_sel = select_patch(Seoul_test_patch,Seoul_label_test_patch)\n",
    "Seoul2_test_patch_sel,Seoul2_label_test_patch_sel = select_patch(Seoul2_test_patch,Seoul2_label_test_patch)\n"
   ]
  },
  {
   "cell_type": "code",
   "execution_count": null,
   "id": "19692c68",
   "metadata": {},
   "outputs": [],
   "source": [
    "Seoul_test_patch_final = np.vstack([Seoul_test_patch_sel,Seoul2_test_patch_sel])\n",
    "Seoul_test_label_patch_final = np.vstack([Seoul_label_test_patch_sel,Seoul2_label_test_patch_sel])\n",
    "\n"
   ]
  },
  {
   "cell_type": "code",
   "execution_count": 23,
   "id": "6e9cb08e",
   "metadata": {},
   "outputs": [
    {
     "name": "stdout",
     "output_type": "stream",
     "text": [
      "Number of train Data: 180\n"
     ]
    }
   ],
   "source": [
    "tmp1=np.arange(Seoul_test_patch_final.shape[0])\n",
    "np.random.seed(200)\n",
    "np.random.shuffle(tmp1)\n",
    "Seoul_test_label_patch_final=Seoul_test_label_patch_final[tmp1,:,:]\n",
    "Seoul_test_patch_final=Seoul_test_patch_final[tmp1,:,:,:]\n",
    "print(f\"Number of test Data: {Seoul_test_patch_final.shape[0]}\")\n",
    "\n",
    "import pickle\n",
    "with open('./pickle/Seoul_test_patch_512_100.pkl', 'wb') as f:\n",
    "\tpickle.dump(Seoul_test_patch_final, f, protocol=pickle.HIGHEST_PROTOCOL)\n",
    "with open('./pickle/Seoul_test_label_patch_512_100.pkl', 'wb') as f:\n",
    "\tpickle.dump(Seoul_test_label_patch_final, f, protocol=pickle.HIGHEST_PROTOCOL)"
   ]
  }
 ],
 "metadata": {
  "kernelspec": {
   "display_name": "Python 3 (ipykernel)",
   "language": "python",
   "name": "python3"
  },
  "language_info": {
   "codemirror_mode": {
    "name": "ipython",
    "version": 3
   },
   "file_extension": ".py",
   "mimetype": "text/x-python",
   "name": "python",
   "nbconvert_exporter": "python",
   "pygments_lexer": "ipython3",
   "version": "3.11.0rc1"
  },
  "toc": {
   "base_numbering": 1,
   "nav_menu": {},
   "number_sections": true,
   "sideBar": true,
   "skip_h1_title": false,
   "title_cell": "Table of Contents",
   "title_sidebar": "Contents",
   "toc_cell": false,
   "toc_position": {
    "height": "calc(100% - 180px)",
    "left": "10px",
    "top": "150px",
    "width": "277.8px"
   },
   "toc_section_display": true,
   "toc_window_display": true
  }
 },
 "nbformat": 4,
 "nbformat_minor": 5
}
